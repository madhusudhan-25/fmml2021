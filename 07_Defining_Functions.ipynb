{
  "nbformat": 4,
  "nbformat_minor": 0,
  "metadata": {
    "colab": {
      "name": "07_Defining_Functions.ipynb",
      "provenance": [],
      "include_colab_link": true
    },
    "kernelspec": {
      "name": "python3",
      "display_name": "Python 3"
    },
    "language_info": {
      "name": "python"
    }
  },
  "cells": [
    {
      "cell_type": "markdown",
      "metadata": {
        "id": "view-in-github",
        "colab_type": "text"
      },
      "source": [
        "<a href=\"https://colab.research.google.com/github/madhusudhan-25/fmml2021/blob/main/07_Defining_Functions.ipynb\" target=\"_parent\"><img src=\"https://colab.research.google.com/assets/colab-badge.svg\" alt=\"Open In Colab\"/></a>"
      ]
    },
    {
      "cell_type": "code",
      "metadata": {
        "id": "1pqsgNqwnbHE"
      },
      "source": [
        "def inList (my_char, my_list=['a','e','i','o','u']):\n",
        "  \"\"\" this is a function to check whether a char is belongs to the given list or not \"\"\"\n",
        "  for each_char in my_list:\n",
        "    if each_char == my_char.lower():\n",
        "      return True\n",
        "  return False"
      ],
      "execution_count": 4,
      "outputs": []
    },
    {
      "cell_type": "code",
      "metadata": {
        "id": "SLpNGCWYn6Er",
        "colab": {
          "base_uri": "https://localhost:8080/"
        },
        "outputId": "242d6eb4-5136-445b-c746-0abb55dd81ae"
      },
      "source": [
        "inList('Z', ['x', 'y', 'z'])"
      ],
      "execution_count": 6,
      "outputs": [
        {
          "output_type": "execute_result",
          "data": {
            "text/plain": [
              "True"
            ]
          },
          "metadata": {},
          "execution_count": 6
        }
      ]
    },
    {
      "cell_type": "code",
      "metadata": {
        "colab": {
          "base_uri": "https://localhost:8080/"
        },
        "id": "ASv-tai7dQIQ",
        "outputId": "c96e8838-b743-4122-b6f9-dc0c64767599"
      },
      "source": [
        "help(inList)"
      ],
      "execution_count": 7,
      "outputs": [
        {
          "output_type": "stream",
          "name": "stdout",
          "text": [
            "Help on function inList in module __main__:\n",
            "\n",
            "inList(my_char, my_list=['a', 'e', 'i', 'o', 'u'])\n",
            "    this is a function to check whether a char is belongs to the given list or not\n",
            "\n"
          ]
        }
      ]
    },
    {
      "cell_type": "code",
      "metadata": {
        "id": "r_KUNOW3rCc6"
      },
      "source": [
        "# Write a function to check whether a given number belongs to fibonacci series or not"
      ],
      "execution_count": 8,
      "outputs": []
    },
    {
      "cell_type": "code",
      "metadata": {
        "id": "hGFuf-w4dfGn"
      },
      "source": [
        "def fibonacci(n,r):\n",
        "  mylist=[]\n",
        "  a,b=1,1\n",
        "  mylist.append(a)\n",
        "  mylist.append(b)\n",
        "  for i in range(0,r):\n",
        "    a=a+b\n",
        "    b=a+b\n",
        "    if (a,b<=r):\n",
        "      mylist.append(a)\n",
        "      mylist.append(b)\n",
        "    else:\n",
        "      break\n",
        "  if n in mylist:\n",
        "    return True\n",
        "  else:\n",
        "    return False\n",
        "  "
      ],
      "execution_count": 43,
      "outputs": []
    },
    {
      "cell_type": "code",
      "metadata": {
        "id": "viGbj2OCp_Ys",
        "outputId": "2f36a26d-073f-44fb-d4d9-488b63f11b09",
        "colab": {
          "base_uri": "https://localhost:8080/"
        }
      },
      "source": [
        "fibonacci(5,100)"
      ],
      "execution_count": 46,
      "outputs": [
        {
          "output_type": "execute_result",
          "data": {
            "text/plain": [
              "True"
            ]
          },
          "metadata": {},
          "execution_count": 46
        }
      ]
    },
    {
      "cell_type": "code",
      "metadata": {
        "id": "hm7TOR8Rqlpj",
        "outputId": "df3bf862-d507-4078-a945-9f24b1f59b2a",
        "colab": {
          "base_uri": "https://localhost:8080/"
        }
      },
      "source": [
        "fibonacci(6,100)"
      ],
      "execution_count": 47,
      "outputs": [
        {
          "output_type": "execute_result",
          "data": {
            "text/plain": [
              "False"
            ]
          },
          "metadata": {},
          "execution_count": 47
        }
      ]
    },
    {
      "cell_type": "code",
      "metadata": {
        "id": "Vva_oPACqrjj",
        "outputId": "cddf8ff0-80ec-41f0-ffdd-299e71df885a",
        "colab": {
          "base_uri": "https://localhost:8080/"
        }
      },
      "source": [
        "fibonacci(2,10)"
      ],
      "execution_count": 49,
      "outputs": [
        {
          "output_type": "execute_result",
          "data": {
            "text/plain": [
              "True"
            ]
          },
          "metadata": {},
          "execution_count": 49
        }
      ]
    },
    {
      "cell_type": "code",
      "metadata": {
        "id": "_1u1ePBmqxUt",
        "outputId": "a173fcb3-4ec0-4898-b068-a96bdb3428cd",
        "colab": {
          "base_uri": "https://localhost:8080/"
        }
      },
      "source": [
        "fibonacci(100,200)"
      ],
      "execution_count": 50,
      "outputs": [
        {
          "output_type": "execute_result",
          "data": {
            "text/plain": [
              "False"
            ]
          },
          "metadata": {},
          "execution_count": 50
        }
      ]
    },
    {
      "cell_type": "code",
      "metadata": {
        "id": "M-Icb8mrq366",
        "outputId": "541ad210-abc4-4f1d-a2f7-66a0bee11113",
        "colab": {
          "base_uri": "https://localhost:8080/"
        }
      },
      "source": [
        "fibonacci(8,100)"
      ],
      "execution_count": 51,
      "outputs": [
        {
          "output_type": "execute_result",
          "data": {
            "text/plain": [
              "True"
            ]
          },
          "metadata": {},
          "execution_count": 51
        }
      ]
    },
    {
      "cell_type": "markdown",
      "metadata": {
        "id": "3hfExC9BPkKK"
      },
      "source": [
        "Reference: [Python Documentation on Functions](https://docs.python.org/3/tutorial/controlflow.html#defining-functions)"
      ]
    }
  ]
}