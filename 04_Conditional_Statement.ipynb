{
  "nbformat": 4,
  "nbformat_minor": 0,
  "metadata": {
    "colab": {
      "name": "04_Conditional Statement.ipynb",
      "provenance": [],
      "include_colab_link": true
    },
    "kernelspec": {
      "name": "python3",
      "display_name": "Python 3"
    },
    "language_info": {
      "name": "python"
    }
  },
  "cells": [
    {
      "cell_type": "markdown",
      "metadata": {
        "id": "view-in-github",
        "colab_type": "text"
      },
      "source": [
        "<a href=\"https://colab.research.google.com/github/madhusudhan-25/fmml2021/blob/main/04_Conditional_Statement.ipynb\" target=\"_parent\"><img src=\"https://colab.research.google.com/assets/colab-badge.svg\" alt=\"Open In Colab\"/></a>"
      ]
    },
    {
      "cell_type": "markdown",
      "metadata": {
        "id": "edX9c60K6OGY"
      },
      "source": [
        "#### Conditional Statements"
      ]
    },
    {
      "cell_type": "markdown",
      "metadata": {
        "id": "BOWsIrajqsvE"
      },
      "source": [
        "##### if - elif - else  (with indentation)\n",
        "```\n",
        "if condition1:\n",
        "   statement1\n",
        "   statement2\n",
        "   statement3\n",
        "elif condition2:\n",
        "   statement4\n",
        "   statement5\n",
        "   statement6\n",
        "else:\n",
        "   statement7\n",
        "   statement8\n",
        "```"
      ]
    },
    {
      "cell_type": "code",
      "metadata": {
        "id": "eDT9R8AOqnsz",
        "outputId": "5615ef57-2dad-43d6-c57e-86dce2f07e70",
        "colab": {
          "base_uri": "https://localhost:8080/"
        }
      },
      "source": [
        "a = input(\"Enter an integer a: \")\n",
        "type(a)"
      ],
      "execution_count": 1,
      "outputs": [
        {
          "name": "stdout",
          "output_type": "stream",
          "text": [
            "Enter an integer a: 4\n"
          ]
        },
        {
          "output_type": "execute_result",
          "data": {
            "text/plain": [
              "str"
            ]
          },
          "metadata": {},
          "execution_count": 1
        }
      ]
    },
    {
      "cell_type": "code",
      "metadata": {
        "id": "gbOsmJaIqiIP",
        "outputId": "e8d3d3fb-9d9f-4165-b9cf-7225003cecdd",
        "colab": {
          "base_uri": "https://localhost:8080/"
        }
      },
      "source": [
        "a = int(a)\n",
        "type(a)"
      ],
      "execution_count": 2,
      "outputs": [
        {
          "output_type": "execute_result",
          "data": {
            "text/plain": [
              "int"
            ]
          },
          "metadata": {},
          "execution_count": 2
        }
      ]
    },
    {
      "cell_type": "code",
      "metadata": {
        "id": "8D8fTIoYqdGE",
        "outputId": "ae625992-230f-4356-e0dd-e4afb91ecf7f",
        "colab": {
          "base_uri": "https://localhost:8080/"
        }
      },
      "source": [
        "b = input(\"Enter an integer b: \")\n",
        "b = int(b)"
      ],
      "execution_count": 3,
      "outputs": [
        {
          "name": "stdout",
          "output_type": "stream",
          "text": [
            "Enter an integer b: 25\n"
          ]
        }
      ]
    },
    {
      "cell_type": "code",
      "metadata": {
        "id": "cehfXMvowN0S",
        "outputId": "3f41a939-8352-417f-8615-3776a822f193",
        "colab": {
          "base_uri": "https://localhost:8080/"
        }
      },
      "source": [
        "if (a > b):\n",
        "  print (\"a is greater than b\")\n",
        "  print (\"and that's it\")\n",
        "elif (a < b):\n",
        "  print (\"a is less than b\")\n",
        "  print (\"which is clear\")\n",
        "else:\n",
        "  print (\"a is neither greater than b,  nor less than b\")"
      ],
      "execution_count": 4,
      "outputs": [
        {
          "output_type": "stream",
          "name": "stdout",
          "text": [
            "a is less than b\n",
            "which is clear\n"
          ]
        }
      ]
    },
    {
      "cell_type": "markdown",
      "metadata": {
        "id": "gRugJ6YQt57S"
      },
      "source": [
        "##### if (condition): statement (single line - without indentation)"
      ]
    },
    {
      "cell_type": "code",
      "metadata": {
        "id": "KR27eyptM_Zc",
        "outputId": "1c79a5af-0d32-4bfe-d636-d3bfbc2c862d",
        "colab": {
          "base_uri": "https://localhost:8080/"
        }
      },
      "source": [
        "a=input(\"enter an integer:\")"
      ],
      "execution_count": 6,
      "outputs": [
        {
          "name": "stdout",
          "output_type": "stream",
          "text": [
            "enter an integer:5\n"
          ]
        }
      ]
    },
    {
      "cell_type": "code",
      "metadata": {
        "id": "AM9IbTxONNNF",
        "outputId": "76b3207b-09c0-4110-80f4-83c106eb01e6",
        "colab": {
          "base_uri": "https://localhost:8080/"
        }
      },
      "source": [
        "int(a)"
      ],
      "execution_count": 7,
      "outputs": [
        {
          "output_type": "execute_result",
          "data": {
            "text/plain": [
              "5"
            ]
          },
          "metadata": {},
          "execution_count": 7
        }
      ]
    },
    {
      "cell_type": "code",
      "metadata": {
        "id": "fSkXbqAoNP7h",
        "outputId": "28d1e4be-69ef-4aa5-e5c4-8ad596b47ef7",
        "colab": {
          "base_uri": "https://localhost:8080/"
        }
      },
      "source": [
        "b=input(\"enter an integer\")"
      ],
      "execution_count": 8,
      "outputs": [
        {
          "name": "stdout",
          "output_type": "stream",
          "text": [
            "enter an integer25\n"
          ]
        }
      ]
    },
    {
      "cell_type": "code",
      "metadata": {
        "id": "NkPEYH5ONXDV",
        "outputId": "15acc641-7060-4b51-ed3d-e34853f2ad30",
        "colab": {
          "base_uri": "https://localhost:8080/"
        }
      },
      "source": [
        "int(b)"
      ],
      "execution_count": 9,
      "outputs": [
        {
          "output_type": "execute_result",
          "data": {
            "text/plain": [
              "25"
            ]
          },
          "metadata": {},
          "execution_count": 9
        }
      ]
    },
    {
      "cell_type": "code",
      "metadata": {
        "id": "N2E5veph8_9V"
      },
      "source": [
        "if (a < b): print (\"a is lesser than b\")"
      ],
      "execution_count": null,
      "outputs": []
    },
    {
      "cell_type": "code",
      "metadata": {
        "id": "j1wr2BmrNktw",
        "outputId": "d6553def-7f85-4577-bf68-be1ea1998b5f",
        "colab": {
          "base_uri": "https://localhost:8080/"
        }
      },
      "source": [
        "if (a>b):print(\"a is greater than b\")"
      ],
      "execution_count": 10,
      "outputs": [
        {
          "output_type": "stream",
          "name": "stdout",
          "text": [
            "a is greater than b\n"
          ]
        }
      ]
    },
    {
      "cell_type": "markdown",
      "metadata": {
        "id": "wtPeoXBWxBLa"
      },
      "source": [
        "##### if - else in a single line "
      ]
    },
    {
      "cell_type": "code",
      "metadata": {
        "id": "SwO5vZ8LxGMA",
        "outputId": "fae42289-21a0-49a3-d16e-a8d1f1a8213c",
        "colab": {
          "base_uri": "https://localhost:8080/"
        }
      },
      "source": [
        "a = input(\"Enter an integer a: \")\n",
        "a = int(a)\n",
        "b = input(\"Enter an integer b: \")\n",
        "b = int(b)"
      ],
      "execution_count": 11,
      "outputs": [
        {
          "name": "stdout",
          "output_type": "stream",
          "text": [
            "Enter an integer a: 4\n",
            "Enter an integer b: 8\n"
          ]
        }
      ]
    },
    {
      "cell_type": "code",
      "metadata": {
        "id": "-SLed6y6xJoq",
        "outputId": "4a782df1-ee35-4997-c20b-12e472b297cd",
        "colab": {
          "base_uri": "https://localhost:8080/"
        }
      },
      "source": [
        "print (\"a is less than b\") if (a < b) else print (\"a - {} is not less than b - {}.\".format(a, b))"
      ],
      "execution_count": 12,
      "outputs": [
        {
          "output_type": "stream",
          "name": "stdout",
          "text": [
            "a is less than b\n"
          ]
        }
      ]
    },
    {
      "cell_type": "code",
      "metadata": {
        "id": "Z0yEYXmBN1_U",
        "outputId": "919f0c9f-d268-455f-957e-af43361f4b1c",
        "colab": {
          "base_uri": "https://localhost:8080/"
        }
      },
      "source": [
        "print(\"a is less than b\") if (a<b) else print(\"a {} is not less than b {}\".format(a,b))"
      ],
      "execution_count": 13,
      "outputs": [
        {
          "output_type": "stream",
          "name": "stdout",
          "text": [
            "a is less than b\n"
          ]
        }
      ]
    },
    {
      "cell_type": "markdown",
      "metadata": {
        "id": "a-ggfGcOvFjz"
      },
      "source": [
        "##### if-else with three conditions"
      ]
    },
    {
      "cell_type": "code",
      "metadata": {
        "id": "JHGOgFs-vWbq",
        "outputId": "af11daba-0d14-4c01-fbc2-ed650642eed4",
        "colab": {
          "base_uri": "https://localhost:8080/"
        }
      },
      "source": [
        "a = input(\"Enter first string: \")\n",
        "b = input (\"Enter second string: \")"
      ],
      "execution_count": 14,
      "outputs": [
        {
          "name": "stdout",
          "output_type": "stream",
          "text": [
            "Enter first string: madhu\n",
            "Enter second string: john\n"
          ]
        }
      ]
    },
    {
      "cell_type": "code",
      "metadata": {
        "id": "qgqqBPjAvLQx",
        "outputId": "33ea84ea-57c8-4b24-c0a6-5f0406247c33",
        "colab": {
          "base_uri": "https://localhost:8080/"
        }
      },
      "source": [
        "print (\"first string comes earlier\") if (a<b) else print (\"second string comes earlier\") if (b<a) else print (\"both strings are same\")  "
      ],
      "execution_count": 15,
      "outputs": [
        {
          "output_type": "stream",
          "name": "stdout",
          "text": [
            "second string comes earlier\n"
          ]
        }
      ]
    },
    {
      "cell_type": "markdown",
      "metadata": {
        "id": "VdwpRcZ82I5N"
      },
      "source": [
        "##### **Exercise**: Write a program to check whether a character read from keyboard is a vowel or consonant"
      ]
    },
    {
      "cell_type": "code",
      "metadata": {
        "id": "7gZeJuOuO2WD",
        "outputId": "a07dc225-6bac-4715-d89b-13a27d0a5e80",
        "colab": {
          "base_uri": "https://localhost:8080/"
        }
      },
      "source": [
        "vowel_str=\"aeiou\"\n",
        "test_char=input(\"enter a single letter:\")\n",
        "test_result=\"consonant\"\n",
        "for i in vowel_str:\n",
        "  if(test_char.lower()==i):\n",
        "    test_result=\"vowel\"\n",
        "    break\n",
        "print(test_result)"
      ],
      "execution_count": 18,
      "outputs": [
        {
          "output_type": "stream",
          "name": "stdout",
          "text": [
            "enter a single letter:j\n",
            "consonant\n"
          ]
        }
      ]
    },
    {
      "cell_type": "code",
      "metadata": {
        "id": "b_QjChOW2VJY"
      },
      "source": [
        "# Your program should come here"
      ],
      "execution_count": null,
      "outputs": []
    },
    {
      "cell_type": "markdown",
      "metadata": {
        "id": "a9AsLgbcVfwx"
      },
      "source": [
        "Reference: [Official Python Documentation](https://docs.python.org/3/tutorial/controlflow.html)"
      ]
    }
  ]
}